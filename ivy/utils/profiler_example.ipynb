{
 "cells": [
  {
   "cell_type": "code",
   "execution_count": null,
   "metadata": {},
   "outputs": [],
   "source": [
    "import torch\n",
    "from torch import nn\n",
    "import tensorflow as tf\n",
    "import numpy as np"
   ]
  },
  {
   "cell_type": "code",
   "execution_count": null,
   "metadata": {},
   "outputs": [],
   "source": [
    "class TFModel(tf.keras.Model):\n",
    "    def __init__(self):\n",
    "        super().__init__()\n",
    "        self.lin = tf.keras.layers.Dense(10, activation=tf.nn.relu)\n",
    "    \n",
    "    def call(self, inputs, training=False):\n",
    "        return self.lin(inputs)"
   ]
  },
  {
   "cell_type": "code",
   "execution_count": null,
   "metadata": {},
   "outputs": [],
   "source": [
    "class TorchModel(nn.Module):\n",
    "    def __init__(self):\n",
    "        super().__init__()\n",
    "        self.lin = nn.Linear(10, 10)\n",
    "    \n",
    "    def forward(self, x):\n",
    "        return self.lin(x)"
   ]
  },
  {
   "cell_type": "code",
   "execution_count": null,
   "metadata": {},
   "outputs": [],
   "source": [
    "tf_model = tf.function(TFModel())  \n",
    "inp = np.random.random((10, 10))\n",
    "x = tf.convert_to_tensor(inp, dtype=tf.float32)\n",
    "tf_model(x)\n",
    "\n",
    "tf_model.summary()"
   ]
  },
  {
   "cell_type": "code",
   "execution_count": null,
   "metadata": {},
   "outputs": [],
   "source": [
    "torch_model = torch.compile(TorchModel())\n",
    "inp2 = np.random.random((10, 10)).astype(np.float32)\n",
    "x2 = torch.from_numpy(inp2)\n",
    "torch_model, torch_model(x2).shape"
   ]
  },
  {
   "cell_type": "markdown",
   "metadata": {},
   "source": [
    "### Creating the Profiler Logs TensorFlow"
   ]
  },
  {
   "cell_type": "code",
   "execution_count": null,
   "metadata": {},
   "outputs": [],
   "source": [
    "logs = 'logs/' + \"tensorflow\"\n",
    "\n",
    "from ivy.utils.profiler import tensorflow_profile_start, tensorflow_profile_stop\n",
    "tensorflow_profile_start(logs, \n",
    "                         host_tracer_level = 3,\n",
    "                         python_tracer_level = 1,\n",
    "                         device_tracer_level = 1)\n",
    "tf_model(x)\n",
    "tensorflow_profile_stop()"
   ]
  },
  {
   "cell_type": "code",
   "execution_count": null,
   "metadata": {},
   "outputs": [],
   "source": [
    "# Launch TensorBoard and navigate to the Profile tab to view performance profile \n",
    "!tensorboard --logdir='logs/'"
   ]
  },
  {
   "cell_type": "markdown",
   "metadata": {},
   "source": [
    "### Creating the Profiler Logs Torch"
   ]
  },
  {
   "cell_type": "code",
   "execution_count": null,
   "metadata": {},
   "outputs": [],
   "source": [
    "from ivy.utils.profiler import torch_profiler_init, torch_profiler_start, torch_profiler_stop\n",
    "profiler = torch_profiler_init(activities=[torch.profiler.ProfilerActivity.CPU, torch.profiler.ProfilerActivity.CUDA ],\n",
    "        on_trace_ready=torch.profiler.tensorboard_trace_handler('./logs/torch'),\n",
    "        record_shapes=True,\n",
    "        profile_memory=True,\n",
    "        with_stack=True)\n",
    "torch_profiler_start(profiler)\n",
    "torch_model(x2)\n",
    "torch_profiler_stop(profiler)"
   ]
  }
 ],
 "metadata": {
  "kernelspec": {
   "display_name": "multienv",
   "language": "python",
   "name": "python3"
  },
  "language_info": {
   "name": "python",
   "version": "3.10.0"
  }
 },
 "nbformat": 4,
 "nbformat_minor": 2
}
